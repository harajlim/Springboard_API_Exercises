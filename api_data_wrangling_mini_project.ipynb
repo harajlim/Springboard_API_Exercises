{
 "cells": [
  {
   "cell_type": "markdown",
   "metadata": {},
   "source": [
    "This exercise will require you to pull some data from the Qunadl API. Qaundl is currently the most widely used aggregator of financial market data."
   ]
  },
  {
   "cell_type": "markdown",
   "metadata": {},
   "source": [
    "As a first step, you will need to register a free account on the http://www.quandl.com website."
   ]
  },
  {
   "cell_type": "markdown",
   "metadata": {},
   "source": [
    "After you register, you will be provided with a unique API key, that you should store:"
   ]
  },
  {
   "cell_type": "code",
   "execution_count": 1,
   "metadata": {},
   "outputs": [],
   "source": [
    "# Store the API key as a string - according to PEP8, constants are always named in all upper case\n",
    "API_KEY = '' #fill This"
   ]
  },
  {
   "cell_type": "markdown",
   "metadata": {},
   "source": [
    "Qaundl has a large number of data sources, but, unfortunately, most of them require a Premium subscription. Still, there are also a good number of free datasets."
   ]
  },
  {
   "cell_type": "markdown",
   "metadata": {},
   "source": [
    "For this mini project, we will focus on equities data from the Frankfurt Stock Exhange (FSE), which is available for free. We'll try and analyze the stock prices of a company called Carl Zeiss Meditec, which manufactures tools for eye examinations, as well as medical lasers for laser eye surgery: https://www.zeiss.com/meditec/int/home.html. The company is listed under the stock ticker AFX_X."
   ]
  },
  {
   "cell_type": "markdown",
   "metadata": {},
   "source": [
    "You can find the detailed Quandl API instructions here: https://docs.quandl.com/docs/time-series"
   ]
  },
  {
   "cell_type": "markdown",
   "metadata": {},
   "source": [
    "While there is a dedicated Python package for connecting to the Quandl API, we would prefer that you use the *requests* package, which can be easily downloaded using *pip* or *conda*. You can find the documentation for the package here: http://docs.python-requests.org/en/master/ "
   ]
  },
  {
   "cell_type": "markdown",
   "metadata": {},
   "source": [
    "Finally, apart from the *requests* package, you are encouraged to not use any third party Python packages, such as *pandas*, and instead focus on what's available in the Python Standard Library (the *collections* module might come in handy: https://pymotw.com/3/collections/).\n",
    "Also, since you won't have access to DataFrames, you are encouraged to us Python's native data structures - preferably dictionaries, though some questions can also be answered using lists.\n",
    "You can read more on these data structures here: https://docs.python.org/3/tutorial/datastructures.html"
   ]
  },
  {
   "cell_type": "markdown",
   "metadata": {},
   "source": [
    "Keep in mind that the JSON responses you will be getting from the API map almost one-to-one to Python's dictionaries. Unfortunately, they can be very nested, so make sure you read up on indexing dictionaries in the documentation provided above."
   ]
  },
  {
   "cell_type": "code",
   "execution_count": 2,
   "metadata": {},
   "outputs": [],
   "source": [
    "# First, import the relevant modules\n",
    "import requests\n",
    "\n"
   ]
  },
  {
   "cell_type": "code",
   "execution_count": 3,
   "metadata": {},
   "outputs": [],
   "source": [
    "# Now, call the Quandl API and pull out a small sample of the data (only one day) to get a glimpse\n",
    "# into the JSON structure that will be returned\n",
    "#https://www.quandl.com/api/v3/datasets/{database_code}/{dataset_code}/data.{return_format}\n",
    "\n",
    "DB_code='FSE' #database code\n",
    "DS_code='AFX_X' #data set code\n",
    "SD='2017-02-23' #startDate\n",
    "ED='2017-02-23'#endDate\n",
    "url='https://www.quandl.com/api/v3/datasets/{}/{}/data.{}?start_date={}&end_date={}&api_key={}'\\\n",
    "    .format(DB_code,DS_code,'json',SD,ED,API_KEY)\n",
    "\n"
   ]
  },
  {
   "cell_type": "code",
   "execution_count": 4,
   "metadata": {},
   "outputs": [
    {
     "name": "stdout",
     "output_type": "stream",
     "text": [
      "{'dataset_data': {'limit': None, 'transform': None, 'column_index': None, 'column_names': ['Date', 'Open', 'High', 'Low', 'Close', 'Change', 'Traded Volume', 'Turnover', 'Last Price of the Day', 'Daily Traded Units', 'Daily Turnover'], 'start_date': '2017-02-23', 'end_date': '2017-02-23', 'frequency': 'daily', 'data': [['2017-02-23', 39.72, 39.98, 39.38, 39.79, None, 81945.0, 3260642.0, None, None, None]], 'collapse': None, 'order': None}}\n"
     ]
    }
   ],
   "source": [
    "# Inspect the JSON structure of the object you created, and take note of how nested it is,\n",
    "# as well as the overall structure\n",
    "r=requests.get(url)\n",
    "print(r.json())"
   ]
  },
  {
   "cell_type": "markdown",
   "metadata": {},
   "source": [
    "These are your tasks for this mini project:\n",
    "\n",
    "1. Collect data from the Franfurt Stock Exchange, for the ticker AFX_X, for the whole year 2017 (keep in mind that the date format is YYYY-MM-DD).\n",
    "2. Convert the returned JSON object into a Python dictionary.\n",
    "3. Calculate what the highest and lowest opening prices were for the stock in this period.\n",
    "4. What was the largest change in any one day (based on High and Low price)?\n",
    "5. What was the largest change between any two days (based on Closing Price)?\n",
    "6. What was the average daily trading volume during this year?\n",
    "7. (Optional) What was the median trading volume during this year. (Note: you may need to implement your own function for calculating the median.)"
   ]
  },
  {
   "cell_type": "markdown",
   "metadata": {
    "collapsed": true
   },
   "source": [
    "## Question 1:\n",
    "1.Collect data from the Franfurt Stock Exchange, for the ticker AFX_X, for the whole year 2017"
   ]
  },
  {
   "cell_type": "code",
   "execution_count": 5,
   "metadata": {},
   "outputs": [],
   "source": [
    "DB_code='FSE' #database code\n",
    "DS_code='AFX_X' #data set code\n",
    "SD='2017-01-01' #startDate \n",
    "ED='2017-12-31'#endDate End Date is included in returned data\n",
    "url='https://www.quandl.com/api/v3/datasets/{}/{}/data.{}?start_date={}&end_date={}&api_key={}'\\\n",
    "    .format(DB_code,DS_code,'json',SD,ED,API_KEY)\n",
    "\n",
    "r=requests.get(url)"
   ]
  },
  {
   "cell_type": "markdown",
   "metadata": {},
   "source": [
    "## Question 2:\n",
    "2.Convert the returned JSON object into a Python dictionary."
   ]
  },
  {
   "cell_type": "code",
   "execution_count": 6,
   "metadata": {
    "scrolled": false
   },
   "outputs": [
    {
     "name": "stdout",
     "output_type": "stream",
     "text": [
      "dict_keys(['limit', 'transform', 'column_index', 'column_names', 'start_date', 'end_date', 'frequency', 'data', 'collapse', 'order'])\n"
     ]
    }
   ],
   "source": [
    "DictData=r.json()['dataset_data']\n",
    "assert type(DictData)==dict\n",
    "print(DictData.keys())"
   ]
  },
  {
   "cell_type": "code",
   "execution_count": 7,
   "metadata": {},
   "outputs": [
    {
     "name": "stdout",
     "output_type": "stream",
     "text": [
      "['Date', 'Open', 'High', 'Low', 'Close', 'Change', 'Traded Volume', 'Turnover', 'Last Price of the Day', 'Daily Traded Units', 'Daily Turnover']\n"
     ]
    }
   ],
   "source": [
    "#print keys for columns names in data.\n",
    "print(DictData['column_names'])"
   ]
  },
  {
   "cell_type": "markdown",
   "metadata": {},
   "source": [
    "## Question 3:\n",
    "3.Calculate what the highest and lowest opening prices were for the stock in this period."
   ]
  },
  {
   "cell_type": "code",
   "execution_count": 8,
   "metadata": {},
   "outputs": [
    {
     "name": "stdout",
     "output_type": "stream",
     "text": [
      "The Minimum Opening Price for 2017 was: 34.0\n",
      "The Maximum Opening Price for 2017 was: 53.11\n"
     ]
    }
   ],
   "source": [
    "#get index of opening prices:\n",
    "OpeningPriceIndex=DictData['column_names'].index('Open')\n",
    "\n",
    "#Get All OpeningPrices Over all Data from 2017:\n",
    "OpeningPrices=[Day[1] for Day in DictData['data']]\n",
    "\n",
    "MinOpenPrice=min(Price for Price in OpeningPrices if Price != None) #Data contains None values\n",
    "MaxOpen=max(Price for Price in OpeningPrices if Price != None)\n",
    "\n",
    "print('The Minimum Opening Price for 2017 was: '+str(MinOpenPrice)+\n",
    "      '\\nThe Maximum Opening Price for 2017 was: '+str(MaxOpen))"
   ]
  },
  {
   "cell_type": "markdown",
   "metadata": {},
   "source": [
    "## Question 4:\n",
    "4.What was the largest change in any one day (based on High and Low price)?"
   ]
  },
  {
   "cell_type": "code",
   "execution_count": 9,
   "metadata": {},
   "outputs": [
    {
     "name": "stdout",
     "output_type": "stream",
     "text": [
      "The Maximum Daily Difference is: 2.8100000000000023\n"
     ]
    }
   ],
   "source": [
    "#get index of Day High/low prices:\n",
    "DailyHighIndex=DictData['column_names'].index('High')\n",
    "DailyLowIndex=DictData['column_names'].index('Low')\n",
    "\n",
    "DailyDiff=[Day[DailyHighIndex]-Day[DailyLowIndex] for Day in DictData['data'] \n",
    "           if Day[DailyHighIndex]!=None and Day[DailyLowIndex]!=None]\n",
    "MaxDailyDiff=max(DailyDiff)\n",
    "print('The Maximum Daily Difference is: '+str(MaxDailyDiff))"
   ]
  },
  {
   "cell_type": "markdown",
   "metadata": {},
   "source": [
    "## Question 5:\n",
    "5.What was the largest change between any two days (based on Closing Price)?\n"
   ]
  },
  {
   "cell_type": "code",
   "execution_count": 10,
   "metadata": {},
   "outputs": [
    {
     "name": "stdout",
     "output_type": "stream",
     "text": [
      "Biggest Change betweent any two CONSECUTIVE days is: 2.559999999999995\n"
     ]
    }
   ],
   "source": [
    "#get index of Day Closing prices:\n",
    "DailyCloseIndex=DictData['column_names'].index('Close')\n",
    "\n",
    "#Get List of Daily Closing price:\n",
    "DailyClosingPrice=[Day[DailyCloseIndex] for Day in DictData['data']]\n",
    "\n",
    "#Get List of differences when none of the Closing Prices is None type\n",
    "\n",
    "DailyClosingDiffs=[abs(Day1-Day2)for Day1,Day2 in zip(DailyClosingPrice[:-1],DailyClosingPrice[1:]) if Day1!=None and Day2!=None]\n",
    "\n",
    "MaxDiff=max(DailyClosingDiffs)\n",
    "\n",
    "print('Biggest Change betweent any two CONSECUTIVE days is: '+str(MaxDiff))\n"
   ]
  },
  {
   "cell_type": "markdown",
   "metadata": {},
   "source": [
    "## Question 6:\n",
    "6.What was the average daily trading volume during this year?\n"
   ]
  },
  {
   "cell_type": "code",
   "execution_count": 11,
   "metadata": {},
   "outputs": [
    {
     "name": "stdout",
     "output_type": "stream",
     "text": [
      "Average Daily Volume for 2017 is: 89124.33725490196\n"
     ]
    }
   ],
   "source": [
    "#get index of Day Volume:\n",
    "DailyVolumeIndex=DictData['column_names'].index('Traded Volume')\n",
    "\n",
    "#Get List of Daily Volume:\n",
    "DailyVolume=[Day[DailyVolumeIndex] for Day in DictData['data'] if Day[DailyVolumeIndex]!=None]\n",
    "\n",
    "MeanAnnualVolume=sum(DailyVolume)/len(DailyVolume)\n",
    "\n",
    "print('Average Daily Volume for 2017 is: '+str(MeanAnnualVolume))\n"
   ]
  },
  {
   "cell_type": "markdown",
   "metadata": {},
   "source": [
    "## Question 7:\n",
    "7.(Optional) What was the median trading volume during this year. (Note: you may need to implement your own function for calculating the median.)"
   ]
  },
  {
   "cell_type": "code",
   "execution_count": 12,
   "metadata": {},
   "outputs": [],
   "source": [
    "def CalculateMedian(List):\n",
    "    \"\"\"Calculates the median of a list of numbers\"\"\"\n",
    "    List=sorted(List)\n",
    "    lenlist=len(List)\n",
    "    \n",
    "    if lenlist%2==0:\n",
    "        return 0.5*(List[(lenlist/2)-1]+List[(lenlist/2)])\n",
    "    else:\n",
    "        return List[(lenlist//2)]\n",
    "    \n"
   ]
  },
  {
   "cell_type": "code",
   "execution_count": 13,
   "metadata": {},
   "outputs": [
    {
     "name": "stdout",
     "output_type": "stream",
     "text": [
      "The median daily volume for 2017 was: 76286.0\n"
     ]
    }
   ],
   "source": [
    "#get index of Day Volume:\n",
    "DailyVolumeIndex=DictData['column_names'].index('Traded Volume')\n",
    "\n",
    "#Get List of Daily Volume:\n",
    "DailyVolume=[Day[DailyVolumeIndex] for Day in DictData['data'] if Day[DailyVolumeIndex]!=None]\n",
    "\n",
    "MedianAnnualVolume=CalculateMedian(DailyVolume)\n",
    "print('The median daily volume for 2017 was: ' +str(MedianAnnualVolume))"
   ]
  }
 ],
 "metadata": {
  "kernelspec": {
   "display_name": "Python 3",
   "language": "python",
   "name": "python3"
  },
  "language_info": {
   "codemirror_mode": {
    "name": "ipython",
    "version": 3
   },
   "file_extension": ".py",
   "mimetype": "text/x-python",
   "name": "python",
   "nbconvert_exporter": "python",
   "pygments_lexer": "ipython3",
   "version": "3.6.5"
  }
 },
 "nbformat": 4,
 "nbformat_minor": 2
}
